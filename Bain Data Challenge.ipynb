{
 "cells": [
  {
   "cell_type": "code",
   "execution_count": 1,
   "metadata": {},
   "outputs": [
    {
     "data": {
      "text/html": [
       "<div>\n",
       "<style scoped>\n",
       "    .dataframe tbody tr th:only-of-type {\n",
       "        vertical-align: middle;\n",
       "    }\n",
       "\n",
       "    .dataframe tbody tr th {\n",
       "        vertical-align: top;\n",
       "    }\n",
       "\n",
       "    .dataframe thead th {\n",
       "        text-align: right;\n",
       "    }\n",
       "</style>\n",
       "<table border=\"1\" class=\"dataframe\">\n",
       "  <thead>\n",
       "    <tr style=\"text-align: right;\">\n",
       "      <th></th>\n",
       "      <th>ID</th>\n",
       "      <th>Day_No</th>\n",
       "      <th>Course_ID</th>\n",
       "      <th>Course_Domain</th>\n",
       "      <th>Course_Type</th>\n",
       "      <th>Short_Promotion</th>\n",
       "      <th>Public_Holiday</th>\n",
       "      <th>Long_Promotion</th>\n",
       "      <th>User_Traffic</th>\n",
       "      <th>Competition_Metric</th>\n",
       "      <th>Sales</th>\n",
       "    </tr>\n",
       "  </thead>\n",
       "  <tbody>\n",
       "    <tr>\n",
       "      <td>0</td>\n",
       "      <td>1</td>\n",
       "      <td>1</td>\n",
       "      <td>1</td>\n",
       "      <td>Development</td>\n",
       "      <td>Course</td>\n",
       "      <td>0</td>\n",
       "      <td>1</td>\n",
       "      <td>1</td>\n",
       "      <td>11004</td>\n",
       "      <td>0.007</td>\n",
       "      <td>81</td>\n",
       "    </tr>\n",
       "    <tr>\n",
       "      <td>1</td>\n",
       "      <td>2</td>\n",
       "      <td>2</td>\n",
       "      <td>1</td>\n",
       "      <td>Development</td>\n",
       "      <td>Course</td>\n",
       "      <td>0</td>\n",
       "      <td>0</td>\n",
       "      <td>1</td>\n",
       "      <td>13650</td>\n",
       "      <td>0.007</td>\n",
       "      <td>79</td>\n",
       "    </tr>\n",
       "    <tr>\n",
       "      <td>2</td>\n",
       "      <td>3</td>\n",
       "      <td>3</td>\n",
       "      <td>1</td>\n",
       "      <td>Development</td>\n",
       "      <td>Course</td>\n",
       "      <td>0</td>\n",
       "      <td>0</td>\n",
       "      <td>1</td>\n",
       "      <td>11655</td>\n",
       "      <td>0.007</td>\n",
       "      <td>75</td>\n",
       "    </tr>\n",
       "    <tr>\n",
       "      <td>3</td>\n",
       "      <td>4</td>\n",
       "      <td>4</td>\n",
       "      <td>1</td>\n",
       "      <td>Development</td>\n",
       "      <td>Course</td>\n",
       "      <td>0</td>\n",
       "      <td>0</td>\n",
       "      <td>1</td>\n",
       "      <td>12054</td>\n",
       "      <td>0.007</td>\n",
       "      <td>80</td>\n",
       "    </tr>\n",
       "    <tr>\n",
       "      <td>4</td>\n",
       "      <td>5</td>\n",
       "      <td>5</td>\n",
       "      <td>1</td>\n",
       "      <td>Development</td>\n",
       "      <td>Course</td>\n",
       "      <td>0</td>\n",
       "      <td>0</td>\n",
       "      <td>1</td>\n",
       "      <td>6804</td>\n",
       "      <td>0.007</td>\n",
       "      <td>41</td>\n",
       "    </tr>\n",
       "  </tbody>\n",
       "</table>\n",
       "</div>"
      ],
      "text/plain": [
       "   ID  Day_No  Course_ID Course_Domain Course_Type  Short_Promotion  \\\n",
       "0   1       1          1   Development      Course                0   \n",
       "1   2       2          1   Development      Course                0   \n",
       "2   3       3          1   Development      Course                0   \n",
       "3   4       4          1   Development      Course                0   \n",
       "4   5       5          1   Development      Course                0   \n",
       "\n",
       "   Public_Holiday  Long_Promotion  User_Traffic  Competition_Metric  Sales  \n",
       "0               1               1         11004               0.007     81  \n",
       "1               0               1         13650               0.007     79  \n",
       "2               0               1         11655               0.007     75  \n",
       "3               0               1         12054               0.007     80  \n",
       "4               0               1          6804               0.007     41  "
      ]
     },
     "execution_count": 1,
     "metadata": {},
     "output_type": "execute_result"
    }
   ],
   "source": [
    "import numpy as np\n",
    "import pandas as pd\n",
    "import matplotlib.pyplot as plt\n",
    "import seaborn as sns\n",
    "\n",
    "sales = pd.read_csv('C:\\\\Users\\\\anush\\\\Desktop\\\\Bain Coding Challenge\\\\train.csv')\n",
    "sales.head()"
   ]
  },
  {
   "cell_type": "code",
   "execution_count": 2,
   "metadata": {},
   "outputs": [
    {
     "data": {
      "text/plain": [
       "(512087, 11)"
      ]
     },
     "execution_count": 2,
     "metadata": {},
     "output_type": "execute_result"
    }
   ],
   "source": [
    "sales.shape"
   ]
  },
  {
   "cell_type": "code",
   "execution_count": 3,
   "metadata": {},
   "outputs": [
    {
     "data": {
      "text/plain": [
       "ID                       0\n",
       "Day_No                   0\n",
       "Course_ID                0\n",
       "Course_Domain            0\n",
       "Course_Type              0\n",
       "Short_Promotion          0\n",
       "Public_Holiday           0\n",
       "Long_Promotion           0\n",
       "User_Traffic             0\n",
       "Competition_Metric    1764\n",
       "Sales                    0\n",
       "dtype: int64"
      ]
     },
     "execution_count": 3,
     "metadata": {},
     "output_type": "execute_result"
    }
   ],
   "source": [
    "pd.isna(sales).sum()"
   ]
  },
  {
   "cell_type": "code",
   "execution_count": 4,
   "metadata": {},
   "outputs": [
    {
     "data": {
      "text/plain": [
       "ID                    0\n",
       "Day_No                0\n",
       "Course_ID             0\n",
       "Course_Domain         0\n",
       "Course_Type           0\n",
       "Short_Promotion       0\n",
       "Public_Holiday        0\n",
       "Long_Promotion        0\n",
       "User_Traffic          0\n",
       "Competition_Metric    0\n",
       "Sales                 0\n",
       "dtype: int64"
      ]
     },
     "execution_count": 4,
     "metadata": {},
     "output_type": "execute_result"
    }
   ],
   "source": [
    "## Need to remove NA's from competition matrix first \n",
    "sales['Competition_Metric']=sales['Competition_Metric'].fillna(0)\n",
    "pd.isna(sales).sum()"
   ]
  },
  {
   "cell_type": "code",
   "execution_count": 5,
   "metadata": {},
   "outputs": [
    {
     "name": "stdout",
     "output_type": "stream",
     "text": [
      "<class 'pandas.core.frame.DataFrame'>\n",
      "RangeIndex: 512087 entries, 0 to 512086\n",
      "Data columns (total 11 columns):\n",
      "ID                    512087 non-null int64\n",
      "Day_No                512087 non-null int64\n",
      "Course_ID             512087 non-null int64\n",
      "Course_Domain         512087 non-null object\n",
      "Course_Type           512087 non-null object\n",
      "Short_Promotion       512087 non-null int64\n",
      "Public_Holiday        512087 non-null int64\n",
      "Long_Promotion        512087 non-null int64\n",
      "User_Traffic          512087 non-null int64\n",
      "Competition_Metric    512087 non-null float64\n",
      "Sales                 512087 non-null int64\n",
      "dtypes: float64(1), int64(8), object(2)\n",
      "memory usage: 43.0+ MB\n"
     ]
    }
   ],
   "source": [
    "sales.info()"
   ]
  },
  {
   "cell_type": "code",
   "execution_count": 6,
   "metadata": {},
   "outputs": [
    {
     "data": {
      "image/png": "[encoded data removed]",
      "text/plain": [
       "<Figure size 576x576 with 1 Axes>"
      ]
     },
     "metadata": {
      "needs_background": "light"
     },
     "output_type": "display_data"
    }
   ],
   "source": [
    "## Exploring Course Domain\n",
    "# We notice maximum courses in demand are from development and least from business. \n",
    "fig, ax = plt.subplots()\n",
    "fig.set_size_inches(8, 8)\n",
    "sns.countplot(x = 'Course_Domain', data = sales)\n",
    "ax.set_xlabel('Course_Domain', fontsize=10)\n",
    "ax.set_ylabel('Sales', fontsize=10)\n",
    "ax.set_title('Course_Domain Count Distribution', fontsize=15)\n",
    "ax.tick_params(labelsize=8)\n",
    "sns.despine()"
   ]
  },
  {
   "cell_type": "code",
   "execution_count": 7,
   "metadata": {},
   "outputs": [
    {
     "data": {
      "text/plain": [
       "Development             264295\n",
       "Software Marketing      166172\n",
       "Finance & Accounting     77210\n",
       "Business                  4410\n",
       "Name: Course_Domain, dtype: int64"
      ]
     },
     "execution_count": 7,
     "metadata": {},
     "output_type": "execute_result"
    }
   ],
   "source": [
    "sales['Course_Domain'].value_counts()"
   ]
  },
  {
   "cell_type": "code",
   "execution_count": 8,
   "metadata": {},
   "outputs": [
    {
     "data": {
      "image/png": "[encoded data removed]",
      "text/plain": [
       "<Figure size 576x576 with 1 Axes>"
      ]
     },
     "metadata": {
      "needs_background": "light"
     },
     "output_type": "display_data"
    }
   ],
   "source": [
    "## Exploring Course Type\n",
    "#Course Type degrees are not in demand which isn't surprising\n",
    "fig, ax = plt.subplots()\n",
    "fig.set_size_inches(8, 8)\n",
    "sns.countplot(x = 'Course_Type', data = sales)\n",
    "ax.set_xlabel('Course_Type', fontsize=10)\n",
    "ax.set_ylabel('Sales', fontsize=10)\n",
    "ax.set_title('Course_Type Count Distribution', fontsize=15)\n",
    "ax.tick_params(labelsize=8)\n",
    "sns.despine()"
   ]
  },
  {
   "cell_type": "code",
   "execution_count": 9,
   "metadata": {},
   "outputs": [
    {
     "data": {
      "text/plain": [
       "Course     262747\n",
       "Program    247576\n",
       "Degree       1764\n",
       "Name: Course_Type, dtype: int64"
      ]
     },
     "execution_count": 9,
     "metadata": {},
     "output_type": "execute_result"
    }
   ],
   "source": [
    "sales[\"Course_Type\"].value_counts()"
   ]
  },
  {
   "cell_type": "code",
   "execution_count": 10,
   "metadata": {},
   "outputs": [
    {
     "data": {
      "image/png": "[encoded data removed]",
      "text/plain": [
       "<Figure size 432x432 with 1 Axes>"
      ]
     },
     "metadata": {
      "needs_background": "light"
     },
     "output_type": "display_data"
    }
   ],
   "source": [
    "## Exploring short promotion\n",
    "# Short Promotions slightly affect sales\n",
    "fig, ax = plt.subplots()\n",
    "fig.set_size_inches(6, 6)\n",
    "sns.countplot(x = 'Short_Promotion', data = sales)\n",
    "ax.set_xlabel('Short_Promotion', fontsize=10)\n",
    "ax.set_ylabel('Sales', fontsize=10)\n",
    "ax.set_title('Short_Promotion Count Distribution', fontsize=15)\n",
    "ax.tick_params(labelsize=10)\n",
    "sns.despine()"
   ]
  },
  {
   "cell_type": "code",
   "execution_count": 11,
   "metadata": {},
   "outputs": [
    {
     "data": {
      "image/png": "[encoded data removed]",
      "text/plain": [
       "<Figure size 432x288 with 1 Axes>"
      ]
     },
     "metadata": {
      "needs_background": "light"
     },
     "output_type": "display_data"
    }
   ],
   "source": [
    "## Exploring short promotion\n",
    "# Long Promotions don't really affect sales. \n",
    "fig.set_size_inches(6, 6)\n",
    "sns.countplot(x = 'Long_Promotion', data = sales)\n",
    "ax.set_xlabel('Long_Promotion', fontsize=10)\n",
    "ax.set_ylabel('Sales', fontsize=10)\n",
    "ax.set_title('Long_Promotion Count Distribution', fontsize=15)\n",
    "ax.tick_params(labelsize=8)\n",
    "sns.despine()"
   ]
  },
  {
   "cell_type": "code",
   "execution_count": 12,
   "metadata": {},
   "outputs": [
    {
     "data": {
      "image/png": "[encoded data removed]",
      "text/plain": [
       "<Figure size 432x432 with 1 Axes>"
      ]
     },
     "metadata": {
      "needs_background": "light"
     },
     "output_type": "display_data"
    }
   ],
   "source": [
    "## Exploring Public Holiday\n",
    "# We would expect more sales during holidays, but it is exact opposite\n",
    "\n",
    "fig, ax = plt.subplots()\n",
    "fig.set_size_inches(6, 6)\n",
    "sns.countplot(x = 'Public_Holiday', data = sales)\n",
    "ax.set_xlabel('Public_Holiday', fontsize=10)\n",
    "ax.set_ylabel('Sales', fontsize=10)\n",
    "ax.set_title('Public_Holiday Count Distribution', fontsize=15)\n",
    "ax.tick_params(labelsize=10)\n",
    "sns.despine()\n"
   ]
  },
  {
   "cell_type": "code",
   "execution_count": 13,
   "metadata": {},
   "outputs": [
    {
     "data": {
      "text/html": [
       "<div>\n",
       "<style scoped>\n",
       "    .dataframe tbody tr th:only-of-type {\n",
       "        vertical-align: middle;\n",
       "    }\n",
       "\n",
       "    .dataframe tbody tr th {\n",
       "        vertical-align: top;\n",
       "    }\n",
       "\n",
       "    .dataframe thead th {\n",
       "        text-align: right;\n",
       "    }\n",
       "</style>\n",
       "<table border=\"1\" class=\"dataframe\">\n",
       "  <thead>\n",
       "    <tr style=\"text-align: right;\">\n",
       "      <th></th>\n",
       "      <th>ID</th>\n",
       "      <th>Day_No</th>\n",
       "      <th>Course_ID</th>\n",
       "      <th>Short_Promotion</th>\n",
       "      <th>Public_Holiday</th>\n",
       "      <th>Long_Promotion</th>\n",
       "      <th>User_Traffic</th>\n",
       "      <th>Competition_Metric</th>\n",
       "      <th>Sales</th>\n",
       "    </tr>\n",
       "  </thead>\n",
       "  <tbody>\n",
       "    <tr>\n",
       "      <td>count</td>\n",
       "      <td>512087.000000</td>\n",
       "      <td>512087.000000</td>\n",
       "      <td>512087.000000</td>\n",
       "      <td>512087.000000</td>\n",
       "      <td>512087.000000</td>\n",
       "      <td>512087.000000</td>\n",
       "      <td>512087.000000</td>\n",
       "      <td>512087.000000</td>\n",
       "      <td>512087.000000</td>\n",
       "    </tr>\n",
       "    <tr>\n",
       "      <td>mean</td>\n",
       "      <td>274007.300650</td>\n",
       "      <td>434.917869</td>\n",
       "      <td>300.388344</td>\n",
       "      <td>0.380244</td>\n",
       "      <td>0.031639</td>\n",
       "      <td>0.488968</td>\n",
       "      <td>15375.101198</td>\n",
       "      <td>0.073092</td>\n",
       "      <td>120.826924</td>\n",
       "    </tr>\n",
       "    <tr>\n",
       "      <td>std</td>\n",
       "      <td>158228.834029</td>\n",
       "      <td>256.044161</td>\n",
       "      <td>173.365787</td>\n",
       "      <td>0.485447</td>\n",
       "      <td>0.175038</td>\n",
       "      <td>0.499879</td>\n",
       "      <td>7727.231205</td>\n",
       "      <td>0.100035</td>\n",
       "      <td>54.355258</td>\n",
       "    </tr>\n",
       "    <tr>\n",
       "      <td>min</td>\n",
       "      <td>1.000000</td>\n",
       "      <td>1.000000</td>\n",
       "      <td>1.000000</td>\n",
       "      <td>0.000000</td>\n",
       "      <td>0.000000</td>\n",
       "      <td>0.000000</td>\n",
       "      <td>168.000000</td>\n",
       "      <td>0.000000</td>\n",
       "      <td>0.000000</td>\n",
       "    </tr>\n",
       "    <tr>\n",
       "      <td>25%</td>\n",
       "      <td>136962.500000</td>\n",
       "      <td>214.000000</td>\n",
       "      <td>150.000000</td>\n",
       "      <td>0.000000</td>\n",
       "      <td>0.000000</td>\n",
       "      <td>0.000000</td>\n",
       "      <td>10584.000000</td>\n",
       "      <td>0.010000</td>\n",
       "      <td>84.000000</td>\n",
       "    </tr>\n",
       "    <tr>\n",
       "      <td>50%</td>\n",
       "      <td>273984.000000</td>\n",
       "      <td>427.000000</td>\n",
       "      <td>300.000000</td>\n",
       "      <td>0.000000</td>\n",
       "      <td>0.000000</td>\n",
       "      <td>0.000000</td>\n",
       "      <td>13776.000000</td>\n",
       "      <td>0.035000</td>\n",
       "      <td>111.000000</td>\n",
       "    </tr>\n",
       "    <tr>\n",
       "      <td>75%</td>\n",
       "      <td>411065.500000</td>\n",
       "      <td>658.000000</td>\n",
       "      <td>451.000000</td>\n",
       "      <td>1.000000</td>\n",
       "      <td>0.000000</td>\n",
       "      <td>1.000000</td>\n",
       "      <td>18123.000000</td>\n",
       "      <td>0.094000</td>\n",
       "      <td>146.000000</td>\n",
       "    </tr>\n",
       "    <tr>\n",
       "      <td>max</td>\n",
       "      <td>548027.000000</td>\n",
       "      <td>882.000000</td>\n",
       "      <td>600.000000</td>\n",
       "      <td>1.000000</td>\n",
       "      <td>1.000000</td>\n",
       "      <td>1.000000</td>\n",
       "      <td>100002.000000</td>\n",
       "      <td>0.768000</td>\n",
       "      <td>682.000000</td>\n",
       "    </tr>\n",
       "  </tbody>\n",
       "</table>\n",
       "</div>"
      ],
      "text/plain": [
       "                  ID         Day_No      Course_ID  Short_Promotion  \\\n",
       "count  512087.000000  512087.000000  512087.000000    512087.000000   \n",
       "mean   274007.300650     434.917869     300.388344         0.380244   \n",
       "std    158228.834029     256.044161     173.365787         0.485447   \n",
       "min         1.000000       1.000000       1.000000         0.000000   \n",
       "25%    136962.500000     214.000000     150.000000         0.000000   \n",
       "50%    273984.000000     427.000000     300.000000         0.000000   \n",
       "75%    411065.500000     658.000000     451.000000         1.000000   \n",
       "max    548027.000000     882.000000     600.000000         1.000000   \n",
       "\n",
       "       Public_Holiday  Long_Promotion   User_Traffic  Competition_Metric  \\\n",
       "count   512087.000000   512087.000000  512087.000000       512087.000000   \n",
       "mean         0.031639        0.488968   15375.101198            0.073092   \n",
       "std          0.175038        0.499879    7727.231205            0.100035   \n",
       "min          0.000000        0.000000     168.000000            0.000000   \n",
       "25%          0.000000        0.000000   10584.000000            0.010000   \n",
       "50%          0.000000        0.000000   13776.000000            0.035000   \n",
       "75%          0.000000        1.000000   18123.000000            0.094000   \n",
       "max          1.000000        1.000000  100002.000000            0.768000   \n",
       "\n",
       "               Sales  \n",
       "count  512087.000000  \n",
       "mean      120.826924  \n",
       "std        54.355258  \n",
       "min         0.000000  \n",
       "25%        84.000000  \n",
       "50%       111.000000  \n",
       "75%       146.000000  \n",
       "max       682.000000  "
      ]
     },
     "execution_count": 13,
     "metadata": {},
     "output_type": "execute_result"
    }
   ],
   "source": [
    "sales.describe()"
   ]
  },
  {
   "cell_type": "code",
   "execution_count": 14,
   "metadata": {},
   "outputs": [
    {
     "data": {
      "text/plain": [
       "<matplotlib.axes._subplots.AxesSubplot at 0x29331294c88>"
      ]
     },
     "execution_count": 14,
     "metadata": {},
     "output_type": "execute_result"
    },
    {
     "data": {
      "image/png": "[encoded data removed]",
      "text/plain": [
       "<Figure size 1080x720 with 1 Axes>"
      ]
     },
     "metadata": {
      "needs_background": "light"
     },
     "output_type": "display_data"
    }
   ],
   "source": [
    "# Sales \n",
    "# Mean sales of 120 \n",
    "plt.figure(figsize=(15,10))\n",
    "plt.tight_layout()\n",
    "sns.distplot(sales['Sales'])"
   ]
  },
  {
   "cell_type": "code",
   "execution_count": 15,
   "metadata": {},
   "outputs": [
    {
     "data": {
      "text/html": [
       "<style  type=\"text/css\" >\n",
       "    #T_23ccee46_7762_11ea_bff4_fbaf0d9a13dcrow0_col0 {\n",
       "            background-color:  #fde725;\n",
       "            color:  #000000;\n",
       "        }    #T_23ccee46_7762_11ea_bff4_fbaf0d9a13dcrow0_col1 {\n",
       "            background-color:  #46085c;\n",
       "            color:  #f1f1f1;\n",
       "        }    #T_23ccee46_7762_11ea_bff4_fbaf0d9a13dcrow0_col2 {\n",
       "            background-color:  #fde725;\n",
       "            color:  #000000;\n",
       "        }    #T_23ccee46_7762_11ea_bff4_fbaf0d9a13dcrow0_col3 {\n",
       "            background-color:  #46075a;\n",
       "            color:  #f1f1f1;\n",
       "        }    #T_23ccee46_7762_11ea_bff4_fbaf0d9a13dcrow0_col4 {\n",
       "            background-color:  #472a7a;\n",
       "            color:  #f1f1f1;\n",
       "        }    #T_23ccee46_7762_11ea_bff4_fbaf0d9a13dcrow0_col5 {\n",
       "            background-color:  #46307e;\n",
       "            color:  #f1f1f1;\n",
       "        }    #T_23ccee46_7762_11ea_bff4_fbaf0d9a13dcrow0_col6 {\n",
       "            background-color:  #414287;\n",
       "            color:  #f1f1f1;\n",
       "        }    #T_23ccee46_7762_11ea_bff4_fbaf0d9a13dcrow0_col7 {\n",
       "            background-color:  #472c7a;\n",
       "            color:  #f1f1f1;\n",
       "        }    #T_23ccee46_7762_11ea_bff4_fbaf0d9a13dcrow0_col8 {\n",
       "            background-color:  #472f7d;\n",
       "            color:  #f1f1f1;\n",
       "        }    #T_23ccee46_7762_11ea_bff4_fbaf0d9a13dcrow1_col0 {\n",
       "            background-color:  #471063;\n",
       "            color:  #f1f1f1;\n",
       "        }    #T_23ccee46_7762_11ea_bff4_fbaf0d9a13dcrow1_col1 {\n",
       "            background-color:  #fde725;\n",
       "            color:  #000000;\n",
       "        }    #T_23ccee46_7762_11ea_bff4_fbaf0d9a13dcrow1_col2 {\n",
       "            background-color:  #470e61;\n",
       "            color:  #f1f1f1;\n",
       "        }    #T_23ccee46_7762_11ea_bff4_fbaf0d9a13dcrow1_col3 {\n",
       "            background-color:  #470d60;\n",
       "            color:  #f1f1f1;\n",
       "        }    #T_23ccee46_7762_11ea_bff4_fbaf0d9a13dcrow1_col4 {\n",
       "            background-color:  #472f7d;\n",
       "            color:  #f1f1f1;\n",
       "        }    #T_23ccee46_7762_11ea_bff4_fbaf0d9a13dcrow1_col5 {\n",
       "            background-color:  #453581;\n",
       "            color:  #f1f1f1;\n",
       "        }    #T_23ccee46_7762_11ea_bff4_fbaf0d9a13dcrow1_col6 {\n",
       "            background-color:  #423f85;\n",
       "            color:  #f1f1f1;\n",
       "        }    #T_23ccee46_7762_11ea_bff4_fbaf0d9a13dcrow1_col7 {\n",
       "            background-color:  #472e7c;\n",
       "            color:  #f1f1f1;\n",
       "        }    #T_23ccee46_7762_11ea_bff4_fbaf0d9a13dcrow1_col8 {\n",
       "            background-color:  #443a83;\n",
       "            color:  #f1f1f1;\n",
       "        }    #T_23ccee46_7762_11ea_bff4_fbaf0d9a13dcrow2_col0 {\n",
       "            background-color:  #fde725;\n",
       "            color:  #000000;\n",
       "        }    #T_23ccee46_7762_11ea_bff4_fbaf0d9a13dcrow2_col1 {\n",
       "            background-color:  #46075a;\n",
       "            color:  #f1f1f1;\n",
       "        }    #T_23ccee46_7762_11ea_bff4_fbaf0d9a13dcrow2_col2 {\n",
       "            background-color:  #fde725;\n",
       "            color:  #000000;\n",
       "        }    #T_23ccee46_7762_11ea_bff4_fbaf0d9a13dcrow2_col3 {\n",
       "            background-color:  #46075a;\n",
       "            color:  #f1f1f1;\n",
       "        }    #T_23ccee46_7762_11ea_bff4_fbaf0d9a13dcrow2_col4 {\n",
       "            background-color:  #472a7a;\n",
       "            color:  #f1f1f1;\n",
       "        }    #T_23ccee46_7762_11ea_bff4_fbaf0d9a13dcrow2_col5 {\n",
       "            background-color:  #46307e;\n",
       "            color:  #f1f1f1;\n",
       "        }    #T_23ccee46_7762_11ea_bff4_fbaf0d9a13dcrow2_col6 {\n",
       "            background-color:  #414287;\n",
       "            color:  #f1f1f1;\n",
       "        }    #T_23ccee46_7762_11ea_bff4_fbaf0d9a13dcrow2_col7 {\n",
       "            background-color:  #472c7a;\n",
       "            color:  #f1f1f1;\n",
       "        }    #T_23ccee46_7762_11ea_bff4_fbaf0d9a13dcrow2_col8 {\n",
       "            background-color:  #472f7d;\n",
       "            color:  #f1f1f1;\n",
       "        }    #T_23ccee46_7762_11ea_bff4_fbaf0d9a13dcrow3_col0 {\n",
       "            background-color:  #470e61;\n",
       "            color:  #f1f1f1;\n",
       "        }    #T_23ccee46_7762_11ea_bff4_fbaf0d9a13dcrow3_col1 {\n",
       "            background-color:  #470d60;\n",
       "            color:  #f1f1f1;\n",
       "        }    #T_23ccee46_7762_11ea_bff4_fbaf0d9a13dcrow3_col2 {\n",
       "            background-color:  #470e61;\n",
       "            color:  #f1f1f1;\n",
       "        }    #T_23ccee46_7762_11ea_bff4_fbaf0d9a13dcrow3_col3 {\n",
       "            background-color:  #fde725;\n",
       "            color:  #000000;\n",
       "        }    #T_23ccee46_7762_11ea_bff4_fbaf0d9a13dcrow3_col4 {\n",
       "            background-color:  #482576;\n",
       "            color:  #f1f1f1;\n",
       "        }    #T_23ccee46_7762_11ea_bff4_fbaf0d9a13dcrow3_col5 {\n",
       "            background-color:  #443a83;\n",
       "            color:  #f1f1f1;\n",
       "        }    #T_23ccee46_7762_11ea_bff4_fbaf0d9a13dcrow3_col6 {\n",
       "            background-color:  #31688e;\n",
       "            color:  #f1f1f1;\n",
       "        }    #T_23ccee46_7762_11ea_bff4_fbaf0d9a13dcrow3_col7 {\n",
       "            background-color:  #472d7b;\n",
       "            color:  #f1f1f1;\n",
       "        }    #T_23ccee46_7762_11ea_bff4_fbaf0d9a13dcrow3_col8 {\n",
       "            background-color:  #26828e;\n",
       "            color:  #000000;\n",
       "        }    #T_23ccee46_7762_11ea_bff4_fbaf0d9a13dcrow4_col0 {\n",
       "            background-color:  #471063;\n",
       "            color:  #f1f1f1;\n",
       "        }    #T_23ccee46_7762_11ea_bff4_fbaf0d9a13dcrow4_col1 {\n",
       "            background-color:  #470e61;\n",
       "            color:  #f1f1f1;\n",
       "        }    #T_23ccee46_7762_11ea_bff4_fbaf0d9a13dcrow4_col2 {\n",
       "            background-color:  #471063;\n",
       "            color:  #f1f1f1;\n",
       "        }    #T_23ccee46_7762_11ea_bff4_fbaf0d9a13dcrow4_col3 {\n",
       "            background-color:  #440154;\n",
       "            color:  #f1f1f1;\n",
       "        }    #T_23ccee46_7762_11ea_bff4_fbaf0d9a13dcrow4_col4 {\n",
       "            background-color:  #fde725;\n",
       "            color:  #000000;\n",
       "        }    #T_23ccee46_7762_11ea_bff4_fbaf0d9a13dcrow4_col5 {\n",
       "            background-color:  #433d84;\n",
       "            color:  #f1f1f1;\n",
       "        }    #T_23ccee46_7762_11ea_bff4_fbaf0d9a13dcrow4_col6 {\n",
       "            background-color:  #481d6f;\n",
       "            color:  #f1f1f1;\n",
       "        }    #T_23ccee46_7762_11ea_bff4_fbaf0d9a13dcrow4_col7 {\n",
       "            background-color:  #472d7b;\n",
       "            color:  #f1f1f1;\n",
       "        }    #T_23ccee46_7762_11ea_bff4_fbaf0d9a13dcrow4_col8 {\n",
       "            background-color:  #440154;\n",
       "            color:  #f1f1f1;\n",
       "        }    #T_23ccee46_7762_11ea_bff4_fbaf0d9a13dcrow5_col0 {\n",
       "            background-color:  #440154;\n",
       "            color:  #f1f1f1;\n",
       "        }    #T_23ccee46_7762_11ea_bff4_fbaf0d9a13dcrow5_col1 {\n",
       "            background-color:  #440154;\n",
       "            color:  #f1f1f1;\n",
       "        }    #T_23ccee46_7762_11ea_bff4_fbaf0d9a13dcrow5_col2 {\n",
       "            background-color:  #440154;\n",
       "            color:  #f1f1f1;\n",
       "        }    #T_23ccee46_7762_11ea_bff4_fbaf0d9a13dcrow5_col3 {\n",
       "            background-color:  #46075a;\n",
       "            color:  #f1f1f1;\n",
       "        }    #T_23ccee46_7762_11ea_bff4_fbaf0d9a13dcrow5_col4 {\n",
       "            background-color:  #472d7b;\n",
       "            color:  #f1f1f1;\n",
       "        }    #T_23ccee46_7762_11ea_bff4_fbaf0d9a13dcrow5_col5 {\n",
       "            background-color:  #fde725;\n",
       "            color:  #000000;\n",
       "        }    #T_23ccee46_7762_11ea_bff4_fbaf0d9a13dcrow5_col6 {\n",
       "            background-color:  #440154;\n",
       "            color:  #f1f1f1;\n",
       "        }    #T_23ccee46_7762_11ea_bff4_fbaf0d9a13dcrow5_col7 {\n",
       "            background-color:  #460a5d;\n",
       "            color:  #f1f1f1;\n",
       "        }    #T_23ccee46_7762_11ea_bff4_fbaf0d9a13dcrow5_col8 {\n",
       "            background-color:  #46085c;\n",
       "            color:  #f1f1f1;\n",
       "        }    #T_23ccee46_7762_11ea_bff4_fbaf0d9a13dcrow6_col0 {\n",
       "            background-color:  #481b6d;\n",
       "            color:  #f1f1f1;\n",
       "        }    #T_23ccee46_7762_11ea_bff4_fbaf0d9a13dcrow6_col1 {\n",
       "            background-color:  #471063;\n",
       "            color:  #f1f1f1;\n",
       "        }    #T_23ccee46_7762_11ea_bff4_fbaf0d9a13dcrow6_col2 {\n",
       "            background-color:  #481b6d;\n",
       "            color:  #f1f1f1;\n",
       "        }    #T_23ccee46_7762_11ea_bff4_fbaf0d9a13dcrow6_col3 {\n",
       "            background-color:  #3f4788;\n",
       "            color:  #f1f1f1;\n",
       "        }    #T_23ccee46_7762_11ea_bff4_fbaf0d9a13dcrow6_col4 {\n",
       "            background-color:  #460a5d;\n",
       "            color:  #f1f1f1;\n",
       "        }    #T_23ccee46_7762_11ea_bff4_fbaf0d9a13dcrow6_col5 {\n",
       "            background-color:  #440154;\n",
       "            color:  #f1f1f1;\n",
       "        }    #T_23ccee46_7762_11ea_bff4_fbaf0d9a13dcrow6_col6 {\n",
       "            background-color:  #fde725;\n",
       "            color:  #000000;\n",
       "        }    #T_23ccee46_7762_11ea_bff4_fbaf0d9a13dcrow6_col7 {\n",
       "            background-color:  #440154;\n",
       "            color:  #f1f1f1;\n",
       "        }    #T_23ccee46_7762_11ea_bff4_fbaf0d9a13dcrow6_col8 {\n",
       "            background-color:  #9bd93c;\n",
       "            color:  #000000;\n",
       "        }    #T_23ccee46_7762_11ea_bff4_fbaf0d9a13dcrow7_col0 {\n",
       "            background-color:  #470d60;\n",
       "            color:  #f1f1f1;\n",
       "        }    #T_23ccee46_7762_11ea_bff4_fbaf0d9a13dcrow7_col1 {\n",
       "            background-color:  #46085c;\n",
       "            color:  #f1f1f1;\n",
       "        }    #T_23ccee46_7762_11ea_bff4_fbaf0d9a13dcrow7_col2 {\n",
       "            background-color:  #470d60;\n",
       "            color:  #f1f1f1;\n",
       "        }    #T_23ccee46_7762_11ea_bff4_fbaf0d9a13dcrow7_col3 {\n",
       "            background-color:  #46075a;\n",
       "            color:  #f1f1f1;\n",
       "        }    #T_23ccee46_7762_11ea_bff4_fbaf0d9a13dcrow7_col4 {\n",
       "            background-color:  #472a7a;\n",
       "            color:  #f1f1f1;\n",
       "        }    #T_23ccee46_7762_11ea_bff4_fbaf0d9a13dcrow7_col5 {\n",
       "            background-color:  #481b6d;\n",
       "            color:  #f1f1f1;\n",
       "        }    #T_23ccee46_7762_11ea_bff4_fbaf0d9a13dcrow7_col6 {\n",
       "            background-color:  #471365;\n",
       "            color:  #f1f1f1;\n",
       "        }    #T_23ccee46_7762_11ea_bff4_fbaf0d9a13dcrow7_col7 {\n",
       "            background-color:  #fde725;\n",
       "            color:  #000000;\n",
       "        }    #T_23ccee46_7762_11ea_bff4_fbaf0d9a13dcrow7_col8 {\n",
       "            background-color:  #482475;\n",
       "            color:  #f1f1f1;\n",
       "        }    #T_23ccee46_7762_11ea_bff4_fbaf0d9a13dcrow8_col0 {\n",
       "            background-color:  #481467;\n",
       "            color:  #f1f1f1;\n",
       "        }    #T_23ccee46_7762_11ea_bff4_fbaf0d9a13dcrow8_col1 {\n",
       "            background-color:  #481d6f;\n",
       "            color:  #f1f1f1;\n",
       "        }    #T_23ccee46_7762_11ea_bff4_fbaf0d9a13dcrow8_col2 {\n",
       "            background-color:  #481467;\n",
       "            color:  #f1f1f1;\n",
       "        }    #T_23ccee46_7762_11ea_bff4_fbaf0d9a13dcrow8_col3 {\n",
       "            background-color:  #2c738e;\n",
       "            color:  #f1f1f1;\n",
       "        }    #T_23ccee46_7762_11ea_bff4_fbaf0d9a13dcrow8_col4 {\n",
       "            background-color:  #440154;\n",
       "            color:  #f1f1f1;\n",
       "        }    #T_23ccee46_7762_11ea_bff4_fbaf0d9a13dcrow8_col5 {\n",
       "            background-color:  #481d6f;\n",
       "            color:  #f1f1f1;\n",
       "        }    #T_23ccee46_7762_11ea_bff4_fbaf0d9a13dcrow8_col6 {\n",
       "            background-color:  #a0da39;\n",
       "            color:  #000000;\n",
       "        }    #T_23ccee46_7762_11ea_bff4_fbaf0d9a13dcrow8_col7 {\n",
       "            background-color:  #482878;\n",
       "            color:  #f1f1f1;\n",
       "        }    #T_23ccee46_7762_11ea_bff4_fbaf0d9a13dcrow8_col8 {\n",
       "            background-color:  #fde725;\n",
       "            color:  #000000;\n",
       "        }</style><table id=\"T_23ccee46_7762_11ea_bff4_fbaf0d9a13dc\" ><thead>    <tr>        <th class=\"blank level0\" ></th>        <th class=\"col_heading level0 col0\" >ID</th>        <th class=\"col_heading level0 col1\" >Day_No</th>        <th class=\"col_heading level0 col2\" >Course_ID</th>        <th class=\"col_heading level0 col3\" >Short_Promotion</th>        <th class=\"col_heading level0 col4\" >Public_Holiday</th>        <th class=\"col_heading level0 col5\" >Long_Promotion</th>        <th class=\"col_heading level0 col6\" >User_Traffic</th>        <th class=\"col_heading level0 col7\" >Competition_Metric</th>        <th class=\"col_heading level0 col8\" >Sales</th>    </tr></thead><tbody>\n",
       "                <tr>\n",
       "                        <th id=\"T_23ccee46_7762_11ea_bff4_fbaf0d9a13dclevel0_row0\" class=\"row_heading level0 row0\" >ID</th>\n",
       "                        <td id=\"T_23ccee46_7762_11ea_bff4_fbaf0d9a13dcrow0_col0\" class=\"data row0 col0\" >1</td>\n",
       "                        <td id=\"T_23ccee46_7762_11ea_bff4_fbaf0d9a13dcrow0_col1\" class=\"data row0 col1\" >0.00105245</td>\n",
       "                        <td id=\"T_23ccee46_7762_11ea_bff4_fbaf0d9a13dcrow0_col2\" class=\"data row0 col2\" >0.999996</td>\n",
       "                        <td id=\"T_23ccee46_7762_11ea_bff4_fbaf0d9a13dcrow0_col3\" class=\"data row0 col3\" >-5.41577e-06</td>\n",
       "                        <td id=\"T_23ccee46_7762_11ea_bff4_fbaf0d9a13dcrow0_col4\" class=\"data row0 col4\" >0.00127445</td>\n",
       "                        <td id=\"T_23ccee46_7762_11ea_bff4_fbaf0d9a13dcrow0_col5\" class=\"data row0 col5\" >-0.0395699</td>\n",
       "                        <td id=\"T_23ccee46_7762_11ea_bff4_fbaf0d9a13dcrow0_col6\" class=\"data row0 col6\" >0.0336037</td>\n",
       "                        <td id=\"T_23ccee46_7762_11ea_bff4_fbaf0d9a13dcrow0_col7\" class=\"data row0 col7\" >-0.00690582</td>\n",
       "                        <td id=\"T_23ccee46_7762_11ea_bff4_fbaf0d9a13dcrow0_col8\" class=\"data row0 col8\" >0.0170373</td>\n",
       "            </tr>\n",
       "            <tr>\n",
       "                        <th id=\"T_23ccee46_7762_11ea_bff4_fbaf0d9a13dclevel0_row1\" class=\"row_heading level0 row1\" >Day_No</th>\n",
       "                        <td id=\"T_23ccee46_7762_11ea_bff4_fbaf0d9a13dcrow1_col0\" class=\"data row1 col0\" >0.00105245</td>\n",
       "                        <td id=\"T_23ccee46_7762_11ea_bff4_fbaf0d9a13dcrow1_col1\" class=\"data row1 col1\" >1</td>\n",
       "                        <td id=\"T_23ccee46_7762_11ea_bff4_fbaf0d9a13dcrow1_col2\" class=\"data row1 col2\" >-0.00050565</td>\n",
       "                        <td id=\"T_23ccee46_7762_11ea_bff4_fbaf0d9a13dcrow1_col3\" class=\"data row1 col3\" >0.0146451</td>\n",
       "                        <td id=\"T_23ccee46_7762_11ea_bff4_fbaf0d9a13dcrow1_col4\" class=\"data row1 col4\" >0.0191122</td>\n",
       "                        <td id=\"T_23ccee46_7762_11ea_bff4_fbaf0d9a13dcrow1_col5\" class=\"data row1 col5\" >-0.0202039</td>\n",
       "                        <td id=\"T_23ccee46_7762_11ea_bff4_fbaf0d9a13dcrow1_col6\" class=\"data row1 col6\" >0.0215109</td>\n",
       "                        <td id=\"T_23ccee46_7762_11ea_bff4_fbaf0d9a13dcrow1_col7\" class=\"data row1 col7\" >0.00315521</td>\n",
       "                        <td id=\"T_23ccee46_7762_11ea_bff4_fbaf0d9a13dcrow1_col8\" class=\"data row1 col8\" >0.0600124</td>\n",
       "            </tr>\n",
       "            <tr>\n",
       "                        <th id=\"T_23ccee46_7762_11ea_bff4_fbaf0d9a13dclevel0_row2\" class=\"row_heading level0 row2\" >Course_ID</th>\n",
       "                        <td id=\"T_23ccee46_7762_11ea_bff4_fbaf0d9a13dcrow2_col0\" class=\"data row2 col0\" >0.999996</td>\n",
       "                        <td id=\"T_23ccee46_7762_11ea_bff4_fbaf0d9a13dcrow2_col1\" class=\"data row2 col1\" >-0.00050565</td>\n",
       "                        <td id=\"T_23ccee46_7762_11ea_bff4_fbaf0d9a13dcrow2_col2\" class=\"data row2 col2\" >1</td>\n",
       "                        <td id=\"T_23ccee46_7762_11ea_bff4_fbaf0d9a13dcrow2_col3\" class=\"data row2 col3\" >-2.69531e-05</td>\n",
       "                        <td id=\"T_23ccee46_7762_11ea_bff4_fbaf0d9a13dcrow2_col4\" class=\"data row2 col4\" >0.00124187</td>\n",
       "                        <td id=\"T_23ccee46_7762_11ea_bff4_fbaf0d9a13dcrow2_col5\" class=\"data row2 col5\" >-0.0396053</td>\n",
       "                        <td id=\"T_23ccee46_7762_11ea_bff4_fbaf0d9a13dcrow2_col6\" class=\"data row2 col6\" >0.0335196</td>\n",
       "                        <td id=\"T_23ccee46_7762_11ea_bff4_fbaf0d9a13dcrow2_col7\" class=\"data row2 col7\" >-0.00685905</td>\n",
       "                        <td id=\"T_23ccee46_7762_11ea_bff4_fbaf0d9a13dcrow2_col8\" class=\"data row2 col8\" >0.016894</td>\n",
       "            </tr>\n",
       "            <tr>\n",
       "                        <th id=\"T_23ccee46_7762_11ea_bff4_fbaf0d9a13dclevel0_row3\" class=\"row_heading level0 row3\" >Short_Promotion</th>\n",
       "                        <td id=\"T_23ccee46_7762_11ea_bff4_fbaf0d9a13dcrow3_col0\" class=\"data row3 col0\" >-5.41577e-06</td>\n",
       "                        <td id=\"T_23ccee46_7762_11ea_bff4_fbaf0d9a13dcrow3_col1\" class=\"data row3 col1\" >0.0146451</td>\n",
       "                        <td id=\"T_23ccee46_7762_11ea_bff4_fbaf0d9a13dcrow3_col2\" class=\"data row3 col2\" >-2.69531e-05</td>\n",
       "                        <td id=\"T_23ccee46_7762_11ea_bff4_fbaf0d9a13dcrow3_col3\" class=\"data row3 col3\" >1</td>\n",
       "                        <td id=\"T_23ccee46_7762_11ea_bff4_fbaf0d9a13dcrow3_col4\" class=\"data row3 col4\" >-0.0187695</td>\n",
       "                        <td id=\"T_23ccee46_7762_11ea_bff4_fbaf0d9a13dcrow3_col5\" class=\"data row3 col5\" >-0.00114925</td>\n",
       "                        <td id=\"T_23ccee46_7762_11ea_bff4_fbaf0d9a13dcrow3_col6\" class=\"data row3 col6\" >0.198785</td>\n",
       "                        <td id=\"T_23ccee46_7762_11ea_bff4_fbaf0d9a13dcrow3_col7\" class=\"data row3 col7\" >0.000178291</td>\n",
       "                        <td id=\"T_23ccee46_7762_11ea_bff4_fbaf0d9a13dcrow3_col8\" class=\"data row3 col8\" >0.367762</td>\n",
       "            </tr>\n",
       "            <tr>\n",
       "                        <th id=\"T_23ccee46_7762_11ea_bff4_fbaf0d9a13dclevel0_row4\" class=\"row_heading level0 row4\" >Public_Holiday</th>\n",
       "                        <td id=\"T_23ccee46_7762_11ea_bff4_fbaf0d9a13dcrow4_col0\" class=\"data row4 col0\" >0.00127445</td>\n",
       "                        <td id=\"T_23ccee46_7762_11ea_bff4_fbaf0d9a13dcrow4_col1\" class=\"data row4 col1\" >0.0191122</td>\n",
       "                        <td id=\"T_23ccee46_7762_11ea_bff4_fbaf0d9a13dcrow4_col2\" class=\"data row4 col2\" >0.00124187</td>\n",
       "                        <td id=\"T_23ccee46_7762_11ea_bff4_fbaf0d9a13dcrow4_col3\" class=\"data row4 col3\" >-0.0187695</td>\n",
       "                        <td id=\"T_23ccee46_7762_11ea_bff4_fbaf0d9a13dcrow4_col4\" class=\"data row4 col4\" >1</td>\n",
       "                        <td id=\"T_23ccee46_7762_11ea_bff4_fbaf0d9a13dcrow4_col5\" class=\"data row4 col5\" >0.00831904</td>\n",
       "                        <td id=\"T_23ccee46_7762_11ea_bff4_fbaf0d9a13dcrow4_col6\" class=\"data row4 col6\" >-0.108305</td>\n",
       "                        <td id=\"T_23ccee46_7762_11ea_bff4_fbaf0d9a13dcrow4_col7\" class=\"data row4 col7\" >-0.000475349</td>\n",
       "                        <td id=\"T_23ccee46_7762_11ea_bff4_fbaf0d9a13dcrow4_col8\" class=\"data row4 col8\" >-0.135052</td>\n",
       "            </tr>\n",
       "            <tr>\n",
       "                        <th id=\"T_23ccee46_7762_11ea_bff4_fbaf0d9a13dclevel0_row5\" class=\"row_heading level0 row5\" >Long_Promotion</th>\n",
       "                        <td id=\"T_23ccee46_7762_11ea_bff4_fbaf0d9a13dcrow5_col0\" class=\"data row5 col0\" >-0.0395699</td>\n",
       "                        <td id=\"T_23ccee46_7762_11ea_bff4_fbaf0d9a13dcrow5_col1\" class=\"data row5 col1\" >-0.0202039</td>\n",
       "                        <td id=\"T_23ccee46_7762_11ea_bff4_fbaf0d9a13dcrow5_col2\" class=\"data row5 col2\" >-0.0396053</td>\n",
       "                        <td id=\"T_23ccee46_7762_11ea_bff4_fbaf0d9a13dcrow5_col3\" class=\"data row5 col3\" >-0.00114925</td>\n",
       "                        <td id=\"T_23ccee46_7762_11ea_bff4_fbaf0d9a13dcrow5_col4\" class=\"data row5 col4\" >0.00831904</td>\n",
       "                        <td id=\"T_23ccee46_7762_11ea_bff4_fbaf0d9a13dcrow5_col5\" class=\"data row5 col5\" >1</td>\n",
       "                        <td id=\"T_23ccee46_7762_11ea_bff4_fbaf0d9a13dcrow5_col6\" class=\"data row5 col6\" >-0.204289</td>\n",
       "                        <td id=\"T_23ccee46_7762_11ea_bff4_fbaf0d9a13dcrow5_col7\" class=\"data row5 col7\" >-0.116604</td>\n",
       "                        <td id=\"T_23ccee46_7762_11ea_bff4_fbaf0d9a13dcrow5_col8\" class=\"data row5 col8\" >-0.109455</td>\n",
       "            </tr>\n",
       "            <tr>\n",
       "                        <th id=\"T_23ccee46_7762_11ea_bff4_fbaf0d9a13dclevel0_row6\" class=\"row_heading level0 row6\" >User_Traffic</th>\n",
       "                        <td id=\"T_23ccee46_7762_11ea_bff4_fbaf0d9a13dcrow6_col0\" class=\"data row6 col0\" >0.0336037</td>\n",
       "                        <td id=\"T_23ccee46_7762_11ea_bff4_fbaf0d9a13dcrow6_col1\" class=\"data row6 col1\" >0.0215109</td>\n",
       "                        <td id=\"T_23ccee46_7762_11ea_bff4_fbaf0d9a13dcrow6_col2\" class=\"data row6 col2\" >0.0335196</td>\n",
       "                        <td id=\"T_23ccee46_7762_11ea_bff4_fbaf0d9a13dcrow6_col3\" class=\"data row6 col3\" >0.198785</td>\n",
       "                        <td id=\"T_23ccee46_7762_11ea_bff4_fbaf0d9a13dcrow6_col4\" class=\"data row6 col4\" >-0.108305</td>\n",
       "                        <td id=\"T_23ccee46_7762_11ea_bff4_fbaf0d9a13dcrow6_col5\" class=\"data row6 col5\" >-0.204289</td>\n",
       "                        <td id=\"T_23ccee46_7762_11ea_bff4_fbaf0d9a13dcrow6_col6\" class=\"data row6 col6\" >1</td>\n",
       "                        <td id=\"T_23ccee46_7762_11ea_bff4_fbaf0d9a13dcrow6_col7\" class=\"data row6 col7\" >-0.147723</td>\n",
       "                        <td id=\"T_23ccee46_7762_11ea_bff4_fbaf0d9a13dcrow6_col8\" class=\"data row6 col8\" >0.829741</td>\n",
       "            </tr>\n",
       "            <tr>\n",
       "                        <th id=\"T_23ccee46_7762_11ea_bff4_fbaf0d9a13dclevel0_row7\" class=\"row_heading level0 row7\" >Competition_Metric</th>\n",
       "                        <td id=\"T_23ccee46_7762_11ea_bff4_fbaf0d9a13dcrow7_col0\" class=\"data row7 col0\" >-0.00690582</td>\n",
       "                        <td id=\"T_23ccee46_7762_11ea_bff4_fbaf0d9a13dcrow7_col1\" class=\"data row7 col1\" >0.00315521</td>\n",
       "                        <td id=\"T_23ccee46_7762_11ea_bff4_fbaf0d9a13dcrow7_col2\" class=\"data row7 col2\" >-0.00685905</td>\n",
       "                        <td id=\"T_23ccee46_7762_11ea_bff4_fbaf0d9a13dcrow7_col3\" class=\"data row7 col3\" >0.000178291</td>\n",
       "                        <td id=\"T_23ccee46_7762_11ea_bff4_fbaf0d9a13dcrow7_col4\" class=\"data row7 col4\" >-0.000475349</td>\n",
       "                        <td id=\"T_23ccee46_7762_11ea_bff4_fbaf0d9a13dcrow7_col5\" class=\"data row7 col5\" >-0.116604</td>\n",
       "                        <td id=\"T_23ccee46_7762_11ea_bff4_fbaf0d9a13dcrow7_col6\" class=\"data row7 col6\" >-0.147723</td>\n",
       "                        <td id=\"T_23ccee46_7762_11ea_bff4_fbaf0d9a13dcrow7_col7\" class=\"data row7 col7\" >1</td>\n",
       "                        <td id=\"T_23ccee46_7762_11ea_bff4_fbaf0d9a13dcrow7_col8\" class=\"data row7 col8\" >-0.0214006</td>\n",
       "            </tr>\n",
       "            <tr>\n",
       "                        <th id=\"T_23ccee46_7762_11ea_bff4_fbaf0d9a13dclevel0_row8\" class=\"row_heading level0 row8\" >Sales</th>\n",
       "                        <td id=\"T_23ccee46_7762_11ea_bff4_fbaf0d9a13dcrow8_col0\" class=\"data row8 col0\" >0.0170373</td>\n",
       "                        <td id=\"T_23ccee46_7762_11ea_bff4_fbaf0d9a13dcrow8_col1\" class=\"data row8 col1\" >0.0600124</td>\n",
       "                        <td id=\"T_23ccee46_7762_11ea_bff4_fbaf0d9a13dcrow8_col2\" class=\"data row8 col2\" >0.016894</td>\n",
       "                        <td id=\"T_23ccee46_7762_11ea_bff4_fbaf0d9a13dcrow8_col3\" class=\"data row8 col3\" >0.367762</td>\n",
       "                        <td id=\"T_23ccee46_7762_11ea_bff4_fbaf0d9a13dcrow8_col4\" class=\"data row8 col4\" >-0.135052</td>\n",
       "                        <td id=\"T_23ccee46_7762_11ea_bff4_fbaf0d9a13dcrow8_col5\" class=\"data row8 col5\" >-0.109455</td>\n",
       "                        <td id=\"T_23ccee46_7762_11ea_bff4_fbaf0d9a13dcrow8_col6\" class=\"data row8 col6\" >0.829741</td>\n",
       "                        <td id=\"T_23ccee46_7762_11ea_bff4_fbaf0d9a13dcrow8_col7\" class=\"data row8 col7\" >-0.0214006</td>\n",
       "                        <td id=\"T_23ccee46_7762_11ea_bff4_fbaf0d9a13dcrow8_col8\" class=\"data row8 col8\" >1</td>\n",
       "            </tr>\n",
       "    </tbody></table>"
      ],
      "text/plain": [
       "<pandas.io.formats.style.Styler at 0x293316a7148>"
      ]
     },
     "execution_count": 15,
     "metadata": {},
     "output_type": "execute_result"
    }
   ],
   "source": [
    "# Correlation matrix of numerical columns\n",
    "# We notice user traffic is highly correlated to sales, but since it's not present in test set, I have dropped it\n",
    "# Dropping ID and Course_ID since both are highly correlated independent variables\n",
    "corr = sales.corr()\n",
    "corr.style.background_gradient(cmap=\"viridis\")"
   ]
  },
  {
   "cell_type": "code",
   "execution_count": 16,
   "metadata": {},
   "outputs": [],
   "source": [
    "#One Hot encoding for target variable 'Sales'\n",
    "sales = pd.get_dummies(data = sales, columns = ['Course_Domain'] , prefix = ['Domain'], drop_first = True)\n",
    "sales = pd.get_dummies(data = sales, columns = ['Course_Type'] , prefix = ['Type'], drop_first = True)\n",
    "sales = sales.drop(['User_Traffic','ID','Course_ID'], axis=1)"
   ]
  },
  {
   "cell_type": "code",
   "execution_count": 17,
   "metadata": {},
   "outputs": [
    {
     "name": "stdout",
     "output_type": "stream",
     "text": [
      "<class 'pandas.core.frame.DataFrame'>\n",
      "RangeIndex: 512087 entries, 0 to 512086\n",
      "Data columns (total 11 columns):\n",
      "Day_No                         512087 non-null int64\n",
      "Short_Promotion                512087 non-null int64\n",
      "Public_Holiday                 512087 non-null int64\n",
      "Long_Promotion                 512087 non-null int64\n",
      "Competition_Metric             512087 non-null float64\n",
      "Sales                          512087 non-null int64\n",
      "Domain_Development             512087 non-null uint8\n",
      "Domain_Finance & Accounting    512087 non-null uint8\n",
      "Domain_Software Marketing      512087 non-null uint8\n",
      "Type_Degree                    512087 non-null uint8\n",
      "Type_Program                   512087 non-null uint8\n",
      "dtypes: float64(1), int64(5), uint8(5)\n",
      "memory usage: 25.9 MB\n"
     ]
    }
   ],
   "source": [
    "# All features in int form for modelling\n",
    "sales.info()"
   ]
  },
  {
   "cell_type": "code",
   "execution_count": 18,
   "metadata": {},
   "outputs": [],
   "source": [
    "X = sales.drop(['Sales'],axis=1)\n",
    "y = sales['Sales']"
   ]
  },
  {
   "cell_type": "code",
   "execution_count": 19,
   "metadata": {},
   "outputs": [
    {
     "name": "stdout",
     "output_type": "stream",
     "text": [
      "(102417, 10) (102417,)\n",
      "(409670, 10) (409670,)\n"
     ]
    }
   ],
   "source": [
    "## Scaling train set\n",
    "import xgboost as xgb\n",
    "from sklearn.model_selection import train_test_split\n",
    "from sklearn.preprocessing import MinMaxScaler\n",
    "\n",
    "X_train_org, X_test_org, y_train, y_test = train_test_split(X, y, test_size=0.8, random_state = 0)\n",
    "\n",
    "scaler = MinMaxScaler()\n",
    "X_train = scaler.fit_transform(X_train_org)\n",
    "X_test = scaler.transform(X_test_org)\n",
    "\n",
    "Xtrain = xgb.DMatrix(np.asmatrix(X_train), label=y_train)\n",
    "Xtest = xgb.DMatrix(np.asmatrix(X_test), label=y_test)\n",
    "xgb_dmat = xgb.DMatrix(X_train, y_train)\n",
    "\n",
    "print(X_train.shape, y_train.shape)\n",
    "print(X_test.shape, y_test.shape)"
   ]
  },
  {
   "cell_type": "code",
   "execution_count": 20,
   "metadata": {},
   "outputs": [],
   "source": [
    "## XGBoost\n",
    "import xgboost as xgb\n",
    "#param = {'seed': 1111,\n",
    "#         'booster':'gbtree',\n",
    "#         'bst:eta':0.1,\n",
    "#         'bst:max_depth':7,\n",
    "#         'subsample':0.6,\n",
    "#         'colsample_bytree': 0.8,\n",
    "#         'objective':'reg:linear',\n",
    "#         'learning_rate':0.7}\n",
    "\n",
    "param = {'seed': 100,\n",
    "         'booster':'gbtree',\n",
    "         'bst:eta':0.1,\n",
    "         'bst:max_depth':5,\n",
    "         'subsample':0.6,\n",
    "         'colsample_bytree': 0.8,\n",
    "         'lambda':1,\n",
    "         'objective':'reg:linear',\n",
    "         'learning_rate':0.7}\n",
    "          \n",
    "plst = list(param.items())\n",
    "num_round = 102"
   ]
  },
  {
   "cell_type": "code",
   "execution_count": 21,
   "metadata": {},
   "outputs": [
    {
     "name": "stdout",
     "output_type": "stream",
     "text": [
      "[12:23:20] WARNING: C:/Users/Administrator/workspace/xgboost-win64_release_1.0.0/src/objective/regression_obj.cu:167: reg:linear is now deprecated in favor of reg:squarederror.\n"
     ]
    }
   ],
   "source": [
    "# Train\n",
    "model = xgb.train(plst, xgb_dmat, num_round)"
   ]
  },
  {
   "cell_type": "code",
   "execution_count": 22,
   "metadata": {},
   "outputs": [
    {
     "data": {
      "text/plain": [
       "array([105, 142, 110, ..., 124, 158,  87])"
      ]
     },
     "execution_count": 22,
     "metadata": {},
     "output_type": "execute_result"
    }
   ],
   "source": [
    "# Predict\n",
    "y_pred = model.predict(xgb.DMatrix(X_test))\n",
    "y_pred = y_pred.astype(int)\n",
    "y_pred[y_pred<0] = 0\n",
    "y_pred"
   ]
  },
  {
   "cell_type": "code",
   "execution_count": 23,
   "metadata": {},
   "outputs": [
    {
     "name": "stdout",
     "output_type": "stream",
     "text": [
      "Root Mean Squared Error: 29.04\n",
      "Root Mean Squared Log Error: 0.07\n"
     ]
    }
   ],
   "source": [
    "# Calculate metrics\n",
    "\n",
    "#RMSE\n",
    "from sklearn import metrics\n",
    "print('Root Mean Squared Error: %.2f'%np.sqrt(metrics.mean_squared_error(y_test, y_pred)))\n",
    "\n",
    "# RMSLE\n",
    "from sklearn.metrics import mean_squared_log_error\n",
    "print('Root Mean Squared Log Error: %.2f'%(mean_squared_log_error(y_test, y_pred)))"
   ]
  },
  {
   "cell_type": "code",
   "execution_count": 24,
   "metadata": {},
   "outputs": [
    {
     "data": {
      "text/html": [
       "<div>\n",
       "<style scoped>\n",
       "    .dataframe tbody tr th:only-of-type {\n",
       "        vertical-align: middle;\n",
       "    }\n",
       "\n",
       "    .dataframe tbody tr th {\n",
       "        vertical-align: top;\n",
       "    }\n",
       "\n",
       "    .dataframe thead th {\n",
       "        text-align: right;\n",
       "    }\n",
       "</style>\n",
       "<table border=\"1\" class=\"dataframe\">\n",
       "  <thead>\n",
       "    <tr style=\"text-align: right;\">\n",
       "      <th></th>\n",
       "      <th>Day_No</th>\n",
       "      <th>Short_Promotion</th>\n",
       "      <th>Public_Holiday</th>\n",
       "      <th>Long_Promotion</th>\n",
       "      <th>Competition_Metric</th>\n",
       "      <th>Domain_Development</th>\n",
       "      <th>Domain_Finance &amp; Accounting</th>\n",
       "      <th>Domain_Software Marketing</th>\n",
       "      <th>Type_Degree</th>\n",
       "      <th>Type_Program</th>\n",
       "    </tr>\n",
       "  </thead>\n",
       "  <tbody>\n",
       "    <tr>\n",
       "      <td>0</td>\n",
       "      <td>883</td>\n",
       "      <td>1</td>\n",
       "      <td>0</td>\n",
       "      <td>1</td>\n",
       "      <td>0.007</td>\n",
       "      <td>1</td>\n",
       "      <td>0</td>\n",
       "      <td>0</td>\n",
       "      <td>0</td>\n",
       "      <td>0</td>\n",
       "    </tr>\n",
       "    <tr>\n",
       "      <td>1</td>\n",
       "      <td>884</td>\n",
       "      <td>1</td>\n",
       "      <td>0</td>\n",
       "      <td>1</td>\n",
       "      <td>0.007</td>\n",
       "      <td>1</td>\n",
       "      <td>0</td>\n",
       "      <td>0</td>\n",
       "      <td>0</td>\n",
       "      <td>0</td>\n",
       "    </tr>\n",
       "    <tr>\n",
       "      <td>2</td>\n",
       "      <td>885</td>\n",
       "      <td>1</td>\n",
       "      <td>0</td>\n",
       "      <td>1</td>\n",
       "      <td>0.007</td>\n",
       "      <td>1</td>\n",
       "      <td>0</td>\n",
       "      <td>0</td>\n",
       "      <td>0</td>\n",
       "      <td>0</td>\n",
       "    </tr>\n",
       "    <tr>\n",
       "      <td>3</td>\n",
       "      <td>886</td>\n",
       "      <td>1</td>\n",
       "      <td>0</td>\n",
       "      <td>1</td>\n",
       "      <td>0.007</td>\n",
       "      <td>1</td>\n",
       "      <td>0</td>\n",
       "      <td>0</td>\n",
       "      <td>0</td>\n",
       "      <td>0</td>\n",
       "    </tr>\n",
       "    <tr>\n",
       "      <td>4</td>\n",
       "      <td>887</td>\n",
       "      <td>0</td>\n",
       "      <td>0</td>\n",
       "      <td>1</td>\n",
       "      <td>0.007</td>\n",
       "      <td>1</td>\n",
       "      <td>0</td>\n",
       "      <td>0</td>\n",
       "      <td>0</td>\n",
       "      <td>0</td>\n",
       "    </tr>\n",
       "  </tbody>\n",
       "</table>\n",
       "</div>"
      ],
      "text/plain": [
       "   Day_No  Short_Promotion  Public_Holiday  Long_Promotion  \\\n",
       "0     883                1               0               1   \n",
       "1     884                1               0               1   \n",
       "2     885                1               0               1   \n",
       "3     886                1               0               1   \n",
       "4     887                0               0               1   \n",
       "\n",
       "   Competition_Metric  Domain_Development  Domain_Finance & Accounting  \\\n",
       "0               0.007                   1                            0   \n",
       "1               0.007                   1                            0   \n",
       "2               0.007                   1                            0   \n",
       "3               0.007                   1                            0   \n",
       "4               0.007                   1                            0   \n",
       "\n",
       "   Domain_Software Marketing  Type_Degree  Type_Program  \n",
       "0                          0            0             0  \n",
       "1                          0            0             0  \n",
       "2                          0            0             0  \n",
       "3                          0            0             0  \n",
       "4                          0            0             0  "
      ]
     },
     "execution_count": 24,
     "metadata": {},
     "output_type": "execute_result"
    }
   ],
   "source": [
    "## Test set reading\n",
    "test = pd.read_csv('C:\\\\Users\\\\anush\\\\Desktop\\\\Bain Coding Challenge\\\\test_QkPvNLx.csv')\n",
    "test1 = test.drop(['ID', 'Course_ID'],axis=1)\n",
    "test1['Competition_Metric']=test1['Competition_Metric'].fillna(0)\n",
    "test1 = pd.get_dummies(data = test1, columns = ['Course_Domain'] , prefix = ['Domain'], drop_first = True)\n",
    "test1 = pd.get_dummies(data = test1, columns = ['Course_Type'] , prefix = ['Type'], drop_first = True)\n",
    "test1.head()"
   ]
  },
  {
   "cell_type": "code",
   "execution_count": 25,
   "metadata": {},
   "outputs": [
    {
     "data": {
      "text/plain": [
       "['f0', 'f1', 'f2', 'f3', 'f4', 'f5', 'f6', 'f7', 'f8', 'f9']"
      ]
     },
     "execution_count": 25,
     "metadata": {},
     "output_type": "execute_result"
    }
   ],
   "source": [
    "# Our trained XGBoost model has these feature names\n",
    "names = model.feature_names\n",
    "names"
   ]
  },
  {
   "cell_type": "code",
   "execution_count": 26,
   "metadata": {},
   "outputs": [
    {
     "data": {
      "text/plain": [
       "Index(['Day_No', 'Short_Promotion', 'Public_Holiday', 'Long_Promotion',\n",
       "       'Competition_Metric', 'Domain_Development',\n",
       "       'Domain_Finance & Accounting', 'Domain_Software Marketing',\n",
       "       'Type_Degree', 'Type_Program'],\n",
       "      dtype='object')"
      ]
     },
     "execution_count": 26,
     "metadata": {},
     "output_type": "execute_result"
    }
   ],
   "source": [
    "# But our test set has different feature names \n",
    "test1.columns"
   ]
  },
  {
   "cell_type": "code",
   "execution_count": 27,
   "metadata": {},
   "outputs": [
    {
     "data": {
      "text/plain": [
       "Index(['f0', 'f1', 'f2', 'f3', 'f4', 'f5', 'f6', 'f7', 'f8', 'f9'], dtype='object')"
      ]
     },
     "execution_count": 27,
     "metadata": {},
     "output_type": "execute_result"
    }
   ],
   "source": [
    "# Rename features to test the model\n",
    "test1.columns=names\n",
    "test1.columns"
   ]
  },
  {
   "cell_type": "code",
   "execution_count": 28,
   "metadata": {},
   "outputs": [
    {
     "data": {
      "text/plain": [
       "array([146, 146, 146, ..., 178, 178, 178])"
      ]
     },
     "execution_count": 28,
     "metadata": {},
     "output_type": "execute_result"
    }
   ],
   "source": [
    "submission_test_pred = model.predict(xgb.DMatrix(test1))\n",
    "submission_test_pred = submission_test_pred.astype(int)\n",
    "submission_test_pred[submission_test_pred<0] = 0\n",
    "submission_test_pred"
   ]
  },
  {
   "cell_type": "code",
   "execution_count": 29,
   "metadata": {},
   "outputs": [
    {
     "data": {
      "text/plain": [
       "(36000, 2)"
      ]
     },
     "execution_count": 29,
     "metadata": {},
     "output_type": "execute_result"
    }
   ],
   "source": [
    "## Sample Submission file\n",
    "sample_submission = pd.read_csv('C:\\\\Users\\\\anush\\\\Desktop\\\\Bain Coding Challenge\\\\sample_submission.csv')\n",
    "sample_submission.shape"
   ]
  },
  {
   "cell_type": "code",
   "execution_count": 30,
   "metadata": {},
   "outputs": [
    {
     "data": {
      "text/html": [
       "<div>\n",
       "<style scoped>\n",
       "    .dataframe tbody tr th:only-of-type {\n",
       "        vertical-align: middle;\n",
       "    }\n",
       "\n",
       "    .dataframe tbody tr th {\n",
       "        vertical-align: top;\n",
       "    }\n",
       "\n",
       "    .dataframe thead th {\n",
       "        text-align: right;\n",
       "    }\n",
       "</style>\n",
       "<table border=\"1\" class=\"dataframe\">\n",
       "  <thead>\n",
       "    <tr style=\"text-align: right;\">\n",
       "      <th></th>\n",
       "      <th>ID</th>\n",
       "      <th>Sales</th>\n",
       "    </tr>\n",
       "  </thead>\n",
       "  <tbody>\n",
       "    <tr>\n",
       "      <td>0</td>\n",
       "      <td>883</td>\n",
       "      <td>146</td>\n",
       "    </tr>\n",
       "    <tr>\n",
       "      <td>1</td>\n",
       "      <td>884</td>\n",
       "      <td>146</td>\n",
       "    </tr>\n",
       "    <tr>\n",
       "      <td>2</td>\n",
       "      <td>885</td>\n",
       "      <td>146</td>\n",
       "    </tr>\n",
       "    <tr>\n",
       "      <td>3</td>\n",
       "      <td>886</td>\n",
       "      <td>146</td>\n",
       "    </tr>\n",
       "    <tr>\n",
       "      <td>4</td>\n",
       "      <td>887</td>\n",
       "      <td>96</td>\n",
       "    </tr>\n",
       "  </tbody>\n",
       "</table>\n",
       "</div>"
      ],
      "text/plain": [
       "    ID  Sales\n",
       "0  883    146\n",
       "1  884    146\n",
       "2  885    146\n",
       "3  886    146\n",
       "4  887     96"
      ]
     },
     "execution_count": 30,
     "metadata": {},
     "output_type": "execute_result"
    }
   ],
   "source": [
    "sample_submission['Sales']=submission_test_pred\n",
    "sample_submission.head()"
   ]
  },
  {
   "cell_type": "code",
   "execution_count": 31,
   "metadata": {},
   "outputs": [],
   "source": [
    "#sample_submission.to_csv('C:\\\\Users\\\\anush\\\\Desktop\\\\Bain Coding Challenge\\\\final_submission.csv', index=False)"
   ]
  }
 ],
 "metadata": {
  "kernelspec": {
   "display_name": "Python 3",
   "language": "python",
   "name": "python3"
  },
  "language_info": {
   "codemirror_mode": {
    "name": "ipython",
    "version": 3
   },
   "file_extension": ".py",
   "mimetype": "text/x-python",
   "name": "python",
   "nbconvert_exporter": "python",
   "pygments_lexer": "ipython3",
   "version": "3.7.4"
  }
 },
 "nbformat": 4,
 "nbformat_minor": 2
}
